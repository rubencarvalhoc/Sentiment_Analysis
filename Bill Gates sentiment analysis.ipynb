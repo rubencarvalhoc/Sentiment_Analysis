{
 "cells": [
  {
   "cell_type": "code",
   "execution_count": 14,
   "id": "1b7d4c10",
   "metadata": {},
   "outputs": [],
   "source": [
    "# Import necessary libraries\n",
    "import re\n",
    "import seaborn as sns\n",
    "import matplotlib.pyplot as plt\n",
    "import pandas as pd\n",
    "import emoji\n",
    "from nltk.tokenize import word_tokenize\n",
    "from nltk.stem import PorterStemmer\n",
    "from nltk.stem import WordNetLemmatizer\n",
    "from nltk.corpus import stopwords\n",
    "from sklearn.feature_extraction.text import CountVectorizer\n",
    "from vaderSentiment.vaderSentiment import SentimentIntensityAnalyzer\n",
    "from sklearn.model_selection import train_test_split"
   ]
  },
  {
   "cell_type": "code",
   "execution_count": 15,
   "id": "861bef66",
   "metadata": {},
   "outputs": [],
   "source": [
    "# Get a better view of the dataset\n",
    "pd.set_option('display.max_rows', 100)\n",
    "pd.set_option('display.max_columns', 100)\n",
    "pd.set_option('display.width', 300)\n",
    "\n",
    "# Load data\n",
    "df = pd.read_csv(r\"C:\\Users\\PC\\Desktop\\PycharmProjects\\DataAnalysis\\bill_gates_tweets.csv\")"
   ]
  },
  {
   "cell_type": "code",
   "execution_count": 16,
   "id": "40b3432c",
   "metadata": {},
   "outputs": [
    {
     "data": {
      "text/html": [
       "<div>\n",
       "<style scoped>\n",
       "    .dataframe tbody tr th:only-of-type {\n",
       "        vertical-align: middle;\n",
       "    }\n",
       "\n",
       "    .dataframe tbody tr th {\n",
       "        vertical-align: top;\n",
       "    }\n",
       "\n",
       "    .dataframe thead th {\n",
       "        text-align: right;\n",
       "    }\n",
       "</style>\n",
       "<table border=\"1\" class=\"dataframe\">\n",
       "  <thead>\n",
       "    <tr style=\"text-align: right;\">\n",
       "      <th></th>\n",
       "      <th>tweets</th>\n",
       "      <th>likes</th>\n",
       "      <th>date</th>\n",
       "    </tr>\n",
       "  </thead>\n",
       "  <tbody>\n",
       "    <tr>\n",
       "      <th>0</th>\n",
       "      <td>@mansukhmandviya It was great to meet Dr @mans...</td>\n",
       "      <td>689</td>\n",
       "      <td>2022-05-28 15:02:08+00:00</td>\n",
       "    </tr>\n",
       "    <tr>\n",
       "      <th>1</th>\n",
       "      <td>Happy to meet Prime Minister @sanchezcastejon ...</td>\n",
       "      <td>3407</td>\n",
       "      <td>2022-05-27 16:09:28+00:00</td>\n",
       "    </tr>\n",
       "    <tr>\n",
       "      <th>2</th>\n",
       "      <td>The school shooting in Texas is heartbreaking....</td>\n",
       "      <td>5980</td>\n",
       "      <td>2022-05-25 16:05:22+00:00</td>\n",
       "    </tr>\n",
       "    <tr>\n",
       "      <th>3</th>\n",
       "      <td>Not long ago, the world increased aid for glob...</td>\n",
       "      <td>1748</td>\n",
       "      <td>2022-05-24 17:02:16+00:00</td>\n",
       "    </tr>\n",
       "    <tr>\n",
       "      <th>4</th>\n",
       "      <td>.@PardisSabeti is working to detect pathogens ...</td>\n",
       "      <td>1859</td>\n",
       "      <td>2022-05-23 19:13:30+00:00</td>\n",
       "    </tr>\n",
       "  </tbody>\n",
       "</table>\n",
       "</div>"
      ],
      "text/plain": [
       "                                              tweets  likes                       date\n",
       "0  @mansukhmandviya It was great to meet Dr @mans...    689  2022-05-28 15:02:08+00:00\n",
       "1  Happy to meet Prime Minister @sanchezcastejon ...   3407  2022-05-27 16:09:28+00:00\n",
       "2  The school shooting in Texas is heartbreaking....   5980  2022-05-25 16:05:22+00:00\n",
       "3  Not long ago, the world increased aid for glob...   1748  2022-05-24 17:02:16+00:00\n",
       "4  .@PardisSabeti is working to detect pathogens ...   1859  2022-05-23 19:13:30+00:00"
      ]
     },
     "execution_count": 16,
     "metadata": {},
     "output_type": "execute_result"
    }
   ],
   "source": [
    "# View our data\n",
    "df.head()"
   ]
  },
  {
   "cell_type": "code",
   "execution_count": 17,
   "id": "7bc8223d",
   "metadata": {},
   "outputs": [
    {
     "data": {
      "text/plain": [
       "tweets    object\n",
       "likes      int64\n",
       "date      object\n",
       "dtype: object"
      ]
     },
     "execution_count": 17,
     "metadata": {},
     "output_type": "execute_result"
    }
   ],
   "source": [
    "df.dtypes"
   ]
  },
  {
   "cell_type": "code",
   "execution_count": 18,
   "id": "690742a5",
   "metadata": {},
   "outputs": [],
   "source": [
    "# Let's parse our 'date' column\n",
    "df['date_parsed'] = pd.to_datetime(df['date'], infer_datetime_format=True)\n",
    "\n",
    "# Now we can create a column that has the hour (UTC±00:00) that the tweet was created\n",
    "df['publish_hour'] = df['date_parsed'].dt.hour\n",
    "\n",
    "# We can drop the 'date' object column now\n",
    "df.drop(['date'], axis=1, inplace=True)"
   ]
  },
  {
   "cell_type": "code",
   "execution_count": 19,
   "id": "0621af14",
   "metadata": {},
   "outputs": [
    {
     "data": {
      "text/plain": [
       "tweets                       object\n",
       "likes                         int64\n",
       "date_parsed     datetime64[ns, UTC]\n",
       "publish_hour                  int64\n",
       "dtype: object"
      ]
     },
     "execution_count": 19,
     "metadata": {},
     "output_type": "execute_result"
    }
   ],
   "source": [
    "df.dtypes"
   ]
  },
  {
   "cell_type": "code",
   "execution_count": 20,
   "id": "01faa5f1",
   "metadata": {},
   "outputs": [],
   "source": [
    "# Let's create our function to clean the tweets\n",
    "def tweet_cleaner(words):\n",
    "    # This will delete any emojis from the sentences\n",
    "    words = emoji.replace_emoji(words, replace=\"\")\n",
    "    # This will transform all words to lowercase\n",
    "    words = words.lower()\n",
    "    # This will delete all mentions and hashtags\n",
    "    words = re.sub(\"@[A-Za-z0-9]+\", \"\", words)\n",
    "    words = re.sub(\"#[A-Za-z0-9_]+\", \"\", words)\n",
    "    # This will delete links\n",
    "    words = re.sub(r\"http\\S+\", \"\", words)\n",
    "    words = re.sub(r\"www.\\S+\", \"\", words)\n",
    "    # Delete character which are not a word character\n",
    "    words = re.sub('\\W+', ' ', words)\n",
    "    return words"
   ]
  },
  {
   "cell_type": "code",
   "execution_count": 21,
   "id": "397f086c",
   "metadata": {},
   "outputs": [
    {
     "name": "stdout",
     "output_type": "stream",
     "text": [
      "                                              tweets  likes               date_parsed  publish_hour                                     tweets_cleaned\n",
      "0  @mansukhmandviya It was great to meet Dr @mans...    689 2022-05-28 15:02:08+00:00            15   it was great to meet dr and exchange perspect...\n",
      "1  Happy to meet Prime Minister @sanchezcastejon ...   3407 2022-05-27 16:09:28+00:00            16  happy to meet prime minister and members of hi...\n",
      "2  The school shooting in Texas is heartbreaking....   5980 2022-05-25 16:05:22+00:00            16  the school shooting in texas is heartbreaking ...\n",
      "3  Not long ago, the world increased aid for glob...   1748 2022-05-24 17:02:16+00:00            17  not long ago the world increased aid for globa...\n",
      "4  .@PardisSabeti is working to detect pathogens ...   1859 2022-05-23 19:13:30+00:00            19   is working to detect pathogens earlier and st...\n"
     ]
    },
    {
     "data": {
      "text/plain": [
       "(3200, 5)"
      ]
     },
     "execution_count": 21,
     "metadata": {},
     "output_type": "execute_result"
    }
   ],
   "source": [
    "# Create new column with preprocessed text\n",
    "df['tweets_cleaned'] = df['tweets'].map(lambda x: tweet_cleaner(x))\n",
    "# Drop null values if any\n",
    "df.dropna(inplace=True)\n",
    "\n",
    "df.head()"
   ]
  },
  {
   "cell_type": "code",
   "execution_count": null,
   "id": "89073bbb",
   "metadata": {},
   "outputs": [],
   "source": [
    "# Looks like there were no null values\n",
    "df.shape"
   ]
  },
  {
   "cell_type": "code",
   "execution_count": 22,
   "id": "8ca8be2e",
   "metadata": {},
   "outputs": [
    {
     "name": "stdout",
     "output_type": "stream",
     "text": [
      "Raw tweets: \n",
      " @mansukhmandviya It was great to meet Dr @mansukhmandviya and exchange perspectives on global health. India's success with the vaccination drive and the use of technology to drive health outcomes at scale offers many lessons for the world.\n",
      "Cleaned tweets:\n",
      "  it was great to meet dr and exchange perspectives on global health india s success with the vaccination drive and the use of technology to drive health outcomes at scale offers many lessons for the world \n",
      "Token tweets:\n",
      " ['it', 'was', 'great', 'to', 'meet', 'dr', 'and', 'exchange', 'perspectives', 'on', 'global', 'health', 'india', 's', 'success', 'with', 'the', 'vaccination', 'drive', 'and', 'the', 'use', 'of', 'technology', 'to', 'drive', 'health', 'outcomes', 'at', 'scale', 'offers', 'many', 'lessons', 'for', 'the', 'world']\n",
      "Removed stopwords:\n",
      " ['great', 'meet', 'dr', 'exchange', 'perspectives', 'global', 'health', 'india', 'success', 'vaccination', 'drive', 'use', 'technology', 'drive', 'health', 'outcomes', 'scale', 'offers', 'many', 'lessons', 'world']\n",
      "Stemmization:\n",
      " ['it', 'wa', 'great', 'to', 'meet', 'dr', 'and', 'exchang', 'perspect', 'on', 'global', 'health', 'india', 's', 'success', 'with', 'the', 'vaccin', 'drive', 'and', 'the', 'use', 'of', 'technolog', 'to', 'drive', 'health', 'outcom', 'at', 'scale', 'offer', 'mani', 'lesson', 'for', 'the', 'world']\n",
      "Lemmatization: \n",
      " ['it', 'wa', 'great', 'to', 'meet', 'dr', 'and', 'exchange', 'perspective', 'on', 'global', 'health', 'india', 's', 'success', 'with', 'the', 'vaccination', 'drive', 'and', 'the', 'use', 'of', 'technology', 'to', 'drive', 'health', 'outcome', 'at', 'scale', 'offer', 'many', 'lesson', 'for', 'the', 'world']\n"
     ]
    }
   ],
   "source": [
    "# Text preprocessing\n",
    "# Create celaned tweets list\n",
    "tweets_cleaned_list = []\n",
    "for clean in df['tweets_cleaned']:\n",
    "    tweets_cleaned_list.append(clean)\n",
    "\n",
    "print(\"Raw tweets: \\n\", df['tweets'][0])\n",
    "print(\"Cleaned tweets:\\n\", df['tweets_cleaned'][0])\n",
    "\n",
    "# Create tokens\n",
    "sentences_tokenized = [word_tokenize(tokens) for tokens in tweets_cleaned_list]\n",
    "print(\"Token tweets:\\n\", sentences_tokenized[0])\n",
    "\n",
    "# Remove stopwords\n",
    "sentences_tokenized2 = []\n",
    "for words in sentences_tokenized:\n",
    "    w = []\n",
    "    for word in words:\n",
    "        if not word in stopwords.words('english'):\n",
    "            w.append(word)\n",
    "    sentences_tokenized2.append(w)\n",
    "\n",
    "print(\"Removed stopwords:\\n\", sentences_tokenized2[0])\n",
    "\n",
    "# Stemming the words\n",
    "stemmer = PorterStemmer()\n",
    "stemmed = []\n",
    "for words in sentences_tokenized:\n",
    "    w = []\n",
    "    for word in words:\n",
    "        w.append(stemmer.stem(word))\n",
    "    stemmed.append(w)\n",
    "\n",
    "print(\"Stemmization:\\n\", stemmed[0])\n",
    "\n",
    "# Lemmatization of words\n",
    "lemmatizer = WordNetLemmatizer()\n",
    "lemmatized = []\n",
    "for i in sentences_tokenized:\n",
    "    w = []\n",
    "    for x in i:\n",
    "        w.append(lemmatizer.lemmatize(x))\n",
    "    lemmatized.append(w)\n",
    "\n",
    "print(\"Lemmatization: \\n\", lemmatized[0])\n",
    "\n",
    "lem=[]\n",
    "for i in lemmatized:\n",
    "    x = ' '.join(i)\n",
    "    lem.append(x)\n",
    "\n",
    "df['tweets_lem'] = lem"
   ]
  },
  {
   "cell_type": "code",
   "execution_count": 23,
   "id": "24990205",
   "metadata": {},
   "outputs": [
    {
     "data": {
      "text/html": [
       "<div>\n",
       "<style scoped>\n",
       "    .dataframe tbody tr th:only-of-type {\n",
       "        vertical-align: middle;\n",
       "    }\n",
       "\n",
       "    .dataframe tbody tr th {\n",
       "        vertical-align: top;\n",
       "    }\n",
       "\n",
       "    .dataframe thead th {\n",
       "        text-align: right;\n",
       "    }\n",
       "</style>\n",
       "<table border=\"1\" class=\"dataframe\">\n",
       "  <thead>\n",
       "    <tr style=\"text-align: right;\">\n",
       "      <th></th>\n",
       "      <th>tweets</th>\n",
       "      <th>likes</th>\n",
       "      <th>date_parsed</th>\n",
       "      <th>publish_hour</th>\n",
       "      <th>tweets_cleaned</th>\n",
       "      <th>tweets_lem</th>\n",
       "    </tr>\n",
       "  </thead>\n",
       "  <tbody>\n",
       "    <tr>\n",
       "      <th>0</th>\n",
       "      <td>@mansukhmandviya It was great to meet Dr @mans...</td>\n",
       "      <td>689</td>\n",
       "      <td>2022-05-28 15:02:08+00:00</td>\n",
       "      <td>15</td>\n",
       "      <td>it was great to meet dr and exchange perspect...</td>\n",
       "      <td>it wa great to meet dr and exchange perspectiv...</td>\n",
       "    </tr>\n",
       "    <tr>\n",
       "      <th>1</th>\n",
       "      <td>Happy to meet Prime Minister @sanchezcastejon ...</td>\n",
       "      <td>3407</td>\n",
       "      <td>2022-05-27 16:09:28+00:00</td>\n",
       "      <td>16</td>\n",
       "      <td>happy to meet prime minister and members of hi...</td>\n",
       "      <td>happy to meet prime minister and member of his...</td>\n",
       "    </tr>\n",
       "    <tr>\n",
       "      <th>2</th>\n",
       "      <td>The school shooting in Texas is heartbreaking....</td>\n",
       "      <td>5980</td>\n",
       "      <td>2022-05-25 16:05:22+00:00</td>\n",
       "      <td>16</td>\n",
       "      <td>the school shooting in texas is heartbreaking ...</td>\n",
       "      <td>the school shooting in texas is heartbreaking ...</td>\n",
       "    </tr>\n",
       "    <tr>\n",
       "      <th>3</th>\n",
       "      <td>Not long ago, the world increased aid for glob...</td>\n",
       "      <td>1748</td>\n",
       "      <td>2022-05-24 17:02:16+00:00</td>\n",
       "      <td>17</td>\n",
       "      <td>not long ago the world increased aid for globa...</td>\n",
       "      <td>not long ago the world increased aid for globa...</td>\n",
       "    </tr>\n",
       "    <tr>\n",
       "      <th>4</th>\n",
       "      <td>.@PardisSabeti is working to detect pathogens ...</td>\n",
       "      <td>1859</td>\n",
       "      <td>2022-05-23 19:13:30+00:00</td>\n",
       "      <td>19</td>\n",
       "      <td>is working to detect pathogens earlier and st...</td>\n",
       "      <td>is working to detect pathogen earlier and stop...</td>\n",
       "    </tr>\n",
       "  </tbody>\n",
       "</table>\n",
       "</div>"
      ],
      "text/plain": [
       "                                              tweets  likes               date_parsed  publish_hour                                     tweets_cleaned                                         tweets_lem\n",
       "0  @mansukhmandviya It was great to meet Dr @mans...    689 2022-05-28 15:02:08+00:00            15   it was great to meet dr and exchange perspect...  it wa great to meet dr and exchange perspectiv...\n",
       "1  Happy to meet Prime Minister @sanchezcastejon ...   3407 2022-05-27 16:09:28+00:00            16  happy to meet prime minister and members of hi...  happy to meet prime minister and member of his...\n",
       "2  The school shooting in Texas is heartbreaking....   5980 2022-05-25 16:05:22+00:00            16  the school shooting in texas is heartbreaking ...  the school shooting in texas is heartbreaking ...\n",
       "3  Not long ago, the world increased aid for glob...   1748 2022-05-24 17:02:16+00:00            17  not long ago the world increased aid for globa...  not long ago the world increased aid for globa...\n",
       "4  .@PardisSabeti is working to detect pathogens ...   1859 2022-05-23 19:13:30+00:00            19   is working to detect pathogens earlier and st...  is working to detect pathogen earlier and stop..."
      ]
     },
     "execution_count": 23,
     "metadata": {},
     "output_type": "execute_result"
    }
   ],
   "source": [
    "df.head()"
   ]
  },
  {
   "cell_type": "code",
   "execution_count": 24,
   "id": "9acbd859",
   "metadata": {},
   "outputs": [
    {
     "data": {
      "text/html": [
       "<div>\n",
       "<style scoped>\n",
       "    .dataframe tbody tr th:only-of-type {\n",
       "        vertical-align: middle;\n",
       "    }\n",
       "\n",
       "    .dataframe tbody tr th {\n",
       "        vertical-align: top;\n",
       "    }\n",
       "\n",
       "    .dataframe thead th {\n",
       "        text-align: right;\n",
       "    }\n",
       "</style>\n",
       "<table border=\"1\" class=\"dataframe\">\n",
       "  <thead>\n",
       "    <tr style=\"text-align: right;\">\n",
       "      <th></th>\n",
       "      <th>tweets</th>\n",
       "      <th>likes</th>\n",
       "      <th>date_parsed</th>\n",
       "      <th>publish_hour</th>\n",
       "      <th>tweets_cleaned</th>\n",
       "      <th>tweets_lem</th>\n",
       "      <th>compound</th>\n",
       "      <th>sentiment</th>\n",
       "      <th>number_of_words</th>\n",
       "    </tr>\n",
       "  </thead>\n",
       "  <tbody>\n",
       "    <tr>\n",
       "      <th>0</th>\n",
       "      <td>@mansukhmandviya It was great to meet Dr @mans...</td>\n",
       "      <td>689</td>\n",
       "      <td>2022-05-28 15:02:08+00:00</td>\n",
       "      <td>15</td>\n",
       "      <td>it was great to meet dr and exchange perspect...</td>\n",
       "      <td>it wa great to meet dr and exchange perspectiv...</td>\n",
       "      <td>0.8316</td>\n",
       "      <td>positive</td>\n",
       "      <td>38</td>\n",
       "    </tr>\n",
       "    <tr>\n",
       "      <th>1</th>\n",
       "      <td>Happy to meet Prime Minister @sanchezcastejon ...</td>\n",
       "      <td>3407</td>\n",
       "      <td>2022-05-27 16:09:28+00:00</td>\n",
       "      <td>16</td>\n",
       "      <td>happy to meet prime minister and members of hi...</td>\n",
       "      <td>happy to meet prime minister and member of his...</td>\n",
       "      <td>0.9241</td>\n",
       "      <td>positive</td>\n",
       "      <td>41</td>\n",
       "    </tr>\n",
       "    <tr>\n",
       "      <th>2</th>\n",
       "      <td>The school shooting in Texas is heartbreaking....</td>\n",
       "      <td>5980</td>\n",
       "      <td>2022-05-25 16:05:22+00:00</td>\n",
       "      <td>16</td>\n",
       "      <td>the school shooting in texas is heartbreaking ...</td>\n",
       "      <td>the school shooting in texas is heartbreaking ...</td>\n",
       "      <td>-0.6369</td>\n",
       "      <td>negative</td>\n",
       "      <td>32</td>\n",
       "    </tr>\n",
       "    <tr>\n",
       "      <th>3</th>\n",
       "      <td>Not long ago, the world increased aid for glob...</td>\n",
       "      <td>1748</td>\n",
       "      <td>2022-05-24 17:02:16+00:00</td>\n",
       "      <td>17</td>\n",
       "      <td>not long ago the world increased aid for globa...</td>\n",
       "      <td>not long ago the world increased aid for globa...</td>\n",
       "      <td>-0.4588</td>\n",
       "      <td>negative</td>\n",
       "      <td>21</td>\n",
       "    </tr>\n",
       "    <tr>\n",
       "      <th>4</th>\n",
       "      <td>.@PardisSabeti is working to detect pathogens ...</td>\n",
       "      <td>1859</td>\n",
       "      <td>2022-05-23 19:13:30+00:00</td>\n",
       "      <td>19</td>\n",
       "      <td>is working to detect pathogens earlier and st...</td>\n",
       "      <td>is working to detect pathogen earlier and stop...</td>\n",
       "      <td>-0.2960</td>\n",
       "      <td>negative</td>\n",
       "      <td>15</td>\n",
       "    </tr>\n",
       "  </tbody>\n",
       "</table>\n",
       "</div>"
      ],
      "text/plain": [
       "                                              tweets  likes               date_parsed  publish_hour                                     tweets_cleaned                                         tweets_lem  compound sentiment  number_of_words\n",
       "0  @mansukhmandviya It was great to meet Dr @mans...    689 2022-05-28 15:02:08+00:00            15   it was great to meet dr and exchange perspect...  it wa great to meet dr and exchange perspectiv...    0.8316  positive               38\n",
       "1  Happy to meet Prime Minister @sanchezcastejon ...   3407 2022-05-27 16:09:28+00:00            16  happy to meet prime minister and members of hi...  happy to meet prime minister and member of his...    0.9241  positive               41\n",
       "2  The school shooting in Texas is heartbreaking....   5980 2022-05-25 16:05:22+00:00            16  the school shooting in texas is heartbreaking ...  the school shooting in texas is heartbreaking ...   -0.6369  negative               32\n",
       "3  Not long ago, the world increased aid for glob...   1748 2022-05-24 17:02:16+00:00            17  not long ago the world increased aid for globa...  not long ago the world increased aid for globa...   -0.4588  negative               21\n",
       "4  .@PardisSabeti is working to detect pathogens ...   1859 2022-05-23 19:13:30+00:00            19   is working to detect pathogens earlier and st...  is working to detect pathogen earlier and stop...   -0.2960  negative               15"
      ]
     },
     "execution_count": 24,
     "metadata": {},
     "output_type": "execute_result"
    }
   ],
   "source": [
    "# Determine tweet sentiment\n",
    "analyzer = SentimentIntensityAnalyzer()\n",
    "\n",
    "# Create a compound column with Vader\n",
    "df['compound'] = df['tweets_lem'].apply(lambda x: analyzer.polarity_scores(x)['compound'])\n",
    "\n",
    "# Increase readability\n",
    "df['sentiment'] = df['compound'].map(lambda x: \"neutral\" if x > 0.05 and x < 0.05 else(\"positive\" if x >= 0.05 else \"negative\"))\n",
    "\n",
    "# Get the number of words per tweet\n",
    "df['number_of_words'] = df['tweets_cleaned'].apply(lambda x: len(str(x).split(\" \")))\n",
    "\n",
    "df.head()"
   ]
  },
  {
   "cell_type": "code",
   "execution_count": 25,
   "id": "d76c2ed8",
   "metadata": {},
   "outputs": [
    {
     "name": "stdout",
     "output_type": "stream",
     "text": [
      "Percentage of positive tweets: 72.94\n",
      "Percentage of negative tweets: 27.06\n",
      "Percentage of netural tweets: 0.0\n"
     ]
    }
   ],
   "source": [
    "# Type of tweet percentage the dataframe is composed of\n",
    "positive_tweets = df.loc[df.compound >= 0.05]\n",
    "percentage_positive = (len(positive_tweets) / len(df.compound)) * 100\n",
    "\n",
    "negative_tweets = df.loc[df.compound <= 0.05]\n",
    "percentage_negative = (len(negative_tweets) / len(df.compound)) * 100\n",
    "\n",
    "neutral_tweets = df.loc[(df.compound > 0.05) & (df.compound < 0.05)]\n",
    "percentage_neutral = (len(neutral_tweets) / len(df.compound)) * 100\n",
    "\n",
    "print(f\"Percentage of positive tweets: {round(percentage_positive, 2)}\")\n",
    "print(f\"Percentage of negative tweets: {round(percentage_negative, 2)}\")\n",
    "print(f\"Percentage of netural tweets: {round(percentage_neutral, 2)}\")"
   ]
  },
  {
   "cell_type": "code",
   "execution_count": 26,
   "id": "b61f2310",
   "metadata": {},
   "outputs": [
    {
     "data": {
      "image/png": "[encoded data removed]",
      "text/plain": [
       "<Figure size 720x576 with 1 Axes>"
      ]
     },
     "metadata": {},
     "output_type": "display_data"
    },
    {
     "data": {
      "image/png": "[encoded data removed]",
      "text/plain": [
       "<Figure size 720x576 with 1 Axes>"
      ]
     },
     "metadata": {},
     "output_type": "display_data"
    },
    {
     "data": {
      "image/png": "[encoded data removed]",
      "text/plain": [
       "<Figure size 720x576 with 1 Axes>"
      ]
     },
     "metadata": {},
     "output_type": "display_data"
    },
    {
     "data": {
      "image/png": "[encoded data removed]",
      "text/plain": [
       "<Figure size 720x576 with 1 Axes>"
      ]
     },
     "metadata": {},
     "output_type": "display_data"
    }
   ],
   "source": [
    "# Let's create some graphs!\n",
    "plt.figure(figsize=(10,8))\n",
    "sns.histplot(df['number_of_words'])\n",
    "plt.title(\"Sentence length by words\", fontsize=15)\n",
    "plt.ylabel(\"Number of tweets\", fontsize=12)\n",
    "plt.xlabel(\"Number of words\", fontsize=12)\n",
    "plt.show()\n",
    "\n",
    "plt.figure(figsize=(10,8))\n",
    "sns.countplot(data=df, x='sentiment')\n",
    "plt.title(\"Tweet sentiment\", fontsize=15)\n",
    "plt.ylabel(\"Number of tweets\", fontsize=12)\n",
    "plt.xlabel(\"Sentiment\", fontsize=12)\n",
    "plt.show()\n",
    "\n",
    "plt.figure(figsize=(10,8))\n",
    "sns.barplot(data=df, x='publish_hour', y='likes', palette='crest')\n",
    "plt.title(\"Tweet likes per hour (UTC±00:00)\", fontsize=15)\n",
    "plt.ylabel(\"Number of likes\", fontsize=12)\n",
    "plt.xlabel(\"Hour that tweet was published\", fontsize=12)\n",
    "plt.show()\n",
    "\n",
    "plt.figure(figsize=(10,8))\n",
    "sns.set_theme(style='darkgrid')\n",
    "sns.lineplot(data=df, x='publish_hour', y='likes')\n",
    "plt.title(\"Tweet likes per hour (UTC±00:00)\", fontsize=15)\n",
    "plt.ylabel(\"Number of likes\", fontsize=12)\n",
    "plt.xlabel(\"Hour that tweet was published\", fontsize=12)\n",
    "plt.show()"
   ]
  },
  {
   "cell_type": "code",
   "execution_count": 27,
   "id": "8df2f15f",
   "metadata": {},
   "outputs": [
    {
     "data": {
      "text/plain": [
       "3014.0567539887606"
      ]
     },
     "execution_count": 27,
     "metadata": {},
     "output_type": "execute_result"
    }
   ],
   "source": [
    "# Let's build our model that tweet sentiment\n",
    "x = df['tweets_cleaned']\n",
    "y = df['likes']\n",
    "\n",
    "# CountVectorizer to create our BoW\n",
    "cv = CountVectorizer(max_features=1500, analyzer='word', ngram_range=(1, 3))\n",
    "\n",
    "\n",
    "# Simple model\n",
    "x_train, x_valid, y_train, y_valid = train_test_split(x, y, random_state=42)\n",
    "\n",
    "x_train_cv = cv.fit_transform(x_train)\n",
    "x_valid_cv = cv.transform(x_valid)\n",
    "\n",
    "from sklearn import svm\n",
    "\n",
    "svr = svm.SVR()\n",
    "svr.fit(x_train_cv, y_train)\n",
    "\n",
    "from sklearn.model_selection import cross_val_score\n",
    "def get_score(model):\n",
    "    return -1 * cross_val_score(model, x_train_cv, y_train, cv=10, scoring='neg_mean_absolute_error').mean()\n",
    "\n",
    "get_score(svr)"
   ]
  }
 ],
 "metadata": {
  "kernelspec": {
   "display_name": "Python 3",
   "language": "python",
   "name": "python3"
  },
  "language_info": {
   "codemirror_mode": {
    "name": "ipython",
    "version": 3
   },
   "file_extension": ".py",
   "mimetype": "text/x-python",
   "name": "python",
   "nbconvert_exporter": "python",
   "pygments_lexer": "ipython3",
   "version": "3.10.4"
  }
 },
 "nbformat": 4,
 "nbformat_minor": 5
}
