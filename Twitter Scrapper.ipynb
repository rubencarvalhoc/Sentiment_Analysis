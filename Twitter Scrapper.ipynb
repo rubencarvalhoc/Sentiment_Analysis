{
 "cells": [
  {
   "cell_type": "code",
   "execution_count": 1,
   "id": "1d9955b6",
   "metadata": {},
   "outputs": [
    {
     "ename": "ModuleNotFoundError",
     "evalue": "No module named 'tweepy'",
     "output_type": "error",
     "traceback": [
      "\u001b[1;31m---------------------------------------------------------------------------\u001b[0m",
      "\u001b[1;31mModuleNotFoundError\u001b[0m                       Traceback (most recent call last)",
      "\u001b[1;32m~\\AppData\\Local\\Temp/ipykernel_76696/3117116554.py\u001b[0m in \u001b[0;36m<module>\u001b[1;34m\u001b[0m\n\u001b[0;32m      1\u001b[0m \u001b[1;31m# Import necessary libraries\u001b[0m\u001b[1;33m\u001b[0m\u001b[1;33m\u001b[0m\u001b[0m\n\u001b[0;32m      2\u001b[0m \u001b[1;32mimport\u001b[0m \u001b[0mpandas\u001b[0m \u001b[1;32mas\u001b[0m \u001b[0mpd\u001b[0m\u001b[1;33m\u001b[0m\u001b[1;33m\u001b[0m\u001b[0m\n\u001b[1;32m----> 3\u001b[1;33m \u001b[1;32mimport\u001b[0m \u001b[0mtweepy\u001b[0m\u001b[1;33m\u001b[0m\u001b[1;33m\u001b[0m\u001b[0m\n\u001b[0m\u001b[0;32m      4\u001b[0m \u001b[1;33m\u001b[0m\u001b[0m\n\u001b[0;32m      5\u001b[0m \u001b[1;31m#Get better view of the dataset\u001b[0m\u001b[1;33m\u001b[0m\u001b[1;33m\u001b[0m\u001b[0m\n",
      "\u001b[1;31mModuleNotFoundError\u001b[0m: No module named 'tweepy'"
     ]
    }
   ],
   "source": [
    "# Import necessary libraries\n",
    "import pandas as pd\n",
    "import tweepy\n",
    "\n",
    "#Get better view of the dataset\n",
    "pd.set_option('display.max_rows', 100)\n",
    "pd.set_option('display.max_columns', 100)\n",
    "pd.set_option('display.width', 100)\n",
    "\n",
    "# Load twitter api keys and tokens\n",
    "auth = tweepy.OAuth1UserHandler(\n",
    "   \"YOUR KEYS AND TOKENS HERE\", \"YOUR KEYS AND TOKENS HERE\", \"3246137451-YOUR KEYS AND TOKENS HERE\", \"YOUR KEYS AND TOKENS HERE\"\n",
    ")\n",
    "\n",
    "api = tweepy.API(auth)\n",
    "\n",
    "# Create empty lists\n",
    "tweets = []\n",
    "likes = []\n",
    "date = []\n",
    "\n",
    "# Get Bill Gates latest 3200 tweets.\n",
    "gates_tweets = tweepy.Cursor(api.user_timeline, id='BillGates', count=200, tweet_mode=\"extended\").items(3250)\n",
    "\n",
    "# Iterate through them to add to its respective list\n",
    "for tweet in gates_tweets:\n",
    "    tweets.append(tweet.full_text)\n",
    "    likes.append(tweet.favorite_count)\n",
    "    date.append(tweet.created_at)\n",
    "\n",
    "# Create a dataframe to see if it's properly done\n",
    "df = pd.DataFrame({'tweets': tweets, 'likes': likes, 'date':date})\n",
    "\n",
    "print(df.shape)\n",
    "print(df.head(5))\n",
    "\n",
    "# Create a csv file for analysis\n",
    "df.to_csv('bill_gates_tweets.csv', index=False)\n",
    "\n"
   ]
  }
 ],
 "metadata": {
  "kernelspec": {
   "display_name": "Python 3",
   "language": "python",
   "name": "python3"
  },
  "language_info": {
   "codemirror_mode": {
    "name": "ipython",
    "version": 3
   },
   "file_extension": ".py",
   "mimetype": "text/x-python",
   "name": "python",
   "nbconvert_exporter": "python",
   "pygments_lexer": "ipython3",
   "version": "3.10.4"
  }
 },
 "nbformat": 4,
 "nbformat_minor": 5
}
